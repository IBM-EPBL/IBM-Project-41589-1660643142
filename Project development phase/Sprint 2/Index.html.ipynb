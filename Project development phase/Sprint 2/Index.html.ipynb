{
  "nbformat": 4,
  "nbformat_minor": 0,
  "metadata": {
    "colab": {
      "provenance": []
    },
    "kernelspec": {
      "name": "python3",
      "display_name": "Python 3"
    },
    "language_info": {
      "name": "python"
    }
  },
  "cells": [
    {
      "cell_type": "code",
      "execution_count": null,
      "metadata": {
        "id": "yNr89_En4UiR"
      },
      "outputs": [],
      "source": [
        "<html>\n",
        "    <head>\n",
        "        <title>\n",
        "            NDIAnC\n",
        "        </title>\n",
        "        <link href=\"styles.css\" rel=\"stylesheet\">\n",
        "    </head>\n",
        "    <body>\n",
        "        <div class=\"container\">\n",
        "            <div class=\"header\">\n",
        "                <div class=\"logo\"><img src=\"https://w7.pngwing.com/pngs/125/523/png-transparent-natural-disaster-natural-hazard-flood-environmental-disaster-natural-miscellaneous-orange-logo.png\" height=\"70\" width=\"70\" alt=\"logo\"/></div>\n",
        "                <div class = \"title\"><br><h1>NDIAnC</h1><br></div>\n",
        "            </div>\n",
        "            <div class=\"options\" >\n",
        "                &nbsp;&nbsp;&nbsp;\n",
        "                <ul>\n",
        "                    <li><a routerLink=\"\">UPLOAD IMAGE</a></li>\n",
        "                    <li><a routerLink=\"\">UPLOAD VIDEO</a></li>\n",
        "                    <li><a routerLink=\"\">STREAM LIVE</a></li>\n",
        "                </ul>\n",
        "            </div>\n",
        "            <div class=\"welcome\" ></div>\n",
        "            <div class=\"bg-text\">\n",
        "                \n",
        "                <h1>N</h1><h2>atural</h2><br><br>\n",
        "                <h1>D</h1><h2>isaster</h2><br><br>\n",
        "                <h1>I</h1><h2>ntensity</h2><br><br>\n",
        "                <h1>A</h1><h2>nalysis</h2><br><br>\n",
        "                <h2>and</h2><br><br>\n",
        "                <h1>C</h1><h2>lassification</h2><br>\n",
        "            </div>\n",
        "        </div>\n",
        "    </body>\n",
        "</html>\n",
        "Footer\n",
        "© 2022 GitHub, Inc.\n",
        "Footer navigation\n",
        "Terms\n",
        "Privacy"
      ]
    }
  ]
}