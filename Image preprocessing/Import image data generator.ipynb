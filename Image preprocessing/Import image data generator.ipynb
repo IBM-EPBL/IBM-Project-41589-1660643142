{
  "nbformat": 4,
  "nbformat_minor": 0,
  "metadata": {
    "colab": {
      "provenance": []
    },
    "kernelspec": {
      "name": "python3",
      "display_name": "Python 3"
    },
    "language_info": {
      "name": "python"
    }
  },
  "cells": [
    {
      "cell_type": "code",
      "execution_count": null,
      "metadata": {
        "id": "39EvFlZKyosP"
      },
      "outputs": [],
      "source": [
        "#importing image data generator library\n",
        "from keras.preprocessing.image import ImageDataGenerator"
      ]
    }
  ]
}