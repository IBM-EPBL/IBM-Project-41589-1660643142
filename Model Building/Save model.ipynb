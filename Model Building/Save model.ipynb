{
  "nbformat": 4,
  "nbformat_minor": 0,
  "metadata": {
    "colab": {
      "provenance": []
    },
    "kernelspec": {
      "name": "python3",
      "display_name": "Python 3"
    },
    "language_info": {
      "name": "python"
    }
  },
  "cells": [
    {
      "cell_type": "code",
      "execution_count": null,
      "metadata": {
        "id": "r8mU4KmcR1mF"
      },
      "outputs": [],
      "source": [
        "history = model.fit(x_train,epochs=20,\n",
        "                    steps_per_epoch=len(x_train),\n",
        "                    validation_data=x_test,validation_steps=len(x_test))\n",
        "\n",
        "#load the saved model\n",
        "model = load_model(\"forest1.h5\")\n",
        "\n",
        "#load image\n",
        "img=load_img(r\"/content/drive/MyDrive/dataset/test_set/Earthquake/1321.jpg\",target_size=(64,64))\n",
        "x=img_to_array(img)\n",
        "x=np.expand_dims(x,axis=0)\n",
        "index=['Cyclone','Earthquake','Flood','Wildfire']\n",
        "\n",
        "#predict class \n",
        "y=np.argmax(model.predict(x),axis=1)\n",
        "print(index[int(y)])"
      ]
    }
  ]
}